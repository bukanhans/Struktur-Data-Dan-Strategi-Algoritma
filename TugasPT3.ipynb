{
  "nbformat": 4,
  "nbformat_minor": 0,
  "metadata": {
    "colab": {
      "provenance": [],
      "authorship_tag": "ABX9TyPrR9BbSABepT5Ld6wTPwOm",
      "include_colab_link": true
    },
    "kernelspec": {
      "name": "python3",
      "display_name": "Python 3"
    },
    "language_info": {
      "name": "python"
    }
  },
  "cells": [
    {
      "cell_type": "markdown",
      "metadata": {
        "id": "view-in-github",
        "colab_type": "text"
      },
      "source": [
        "<a href=\"https://colab.research.google.com/github/bukanhans/Struktur-Data-Dan-Strategi-Algoritma/blob/main/TugasPT3.ipynb\" target=\"_parent\"><img src=\"https://colab.research.google.com/assets/colab-badge.svg\" alt=\"Open In Colab\"/></a>"
      ]
    },
    {
      "cell_type": "code",
      "execution_count": 1,
      "metadata": {
        "colab": {
          "base_uri": "https://localhost:8080/"
        },
        "id": "OJ8qo-k4P4rd",
        "outputId": "443958a1-7bd4-4c5f-bb9f-aecaf85cf1c2"
      },
      "outputs": [
        {
          "output_type": "stream",
          "name": "stdout",
          "text": [
            "29 adalah bilangan prima\n"
          ]
        }
      ],
      "source": [
        "def cek_prima(n):\n",
        "    if n <= 1:\n",
        "        return False  # Percabangan: bilangan kurang atau sama dengan 1 bukan prima\n",
        "    i = 2\n",
        "    while i < n:      # Perulangan dari 2 sampai n-1\n",
        "        if n % i == 0:\n",
        "            return False  # Percabangan: jika habis dibagi i, bukan prima\n",
        "        i += 1\n",
        "    return True  # Jika tidak ada pembagi, bilangan prima\n",
        "\n",
        "# Contoh penggunaan\n",
        "bilangan = 29\n",
        "if cek_prima(bilangan):\n",
        "    print(f\"{bilangan} adalah bilangan prima\")\n",
        "else:\n",
        "    print(f\"{bilangan} bukan bilangan prima\")\n"
      ]
    }
  ]
}