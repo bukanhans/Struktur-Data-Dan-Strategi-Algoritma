{
  "nbformat": 4,
  "nbformat_minor": 0,
  "metadata": {
    "colab": {
      "provenance": [],
      "authorship_tag": "ABX9TyPFY4gPZOoN7fF0Q7MPgoon",
      "include_colab_link": true
    },
    "kernelspec": {
      "name": "python3",
      "display_name": "Python 3"
    },
    "language_info": {
      "name": "python"
    }
  },
  "cells": [
    {
      "cell_type": "markdown",
      "metadata": {
        "id": "view-in-github",
        "colab_type": "text"
      },
      "source": [
        "<a href=\"https://colab.research.google.com/github/bukanhans/Tugas1/blob/main/Test.ipynb\" target=\"_parent\"><img src=\"https://colab.research.google.com/assets/colab-badge.svg\" alt=\"Open In Colab\"/></a>"
      ]
    },
    {
      "cell_type": "code",
      "execution_count": null,
      "metadata": {
        "id": "CfBT9FxufmBW"
      },
      "outputs": [],
      "source": []
    },
    {
      "cell_type": "code",
      "source": [
        "class Stack:\n",
        "\n",
        "  def __init__(self):\n",
        "     self.items = []\n",
        "\n",
        "  def push(self, item):\n",
        "     self.items.append(item)\n",
        "  def pop(self):\n",
        "     if not self.is_empty():\n",
        "       return self.items.pop()\n",
        "       return None\n",
        "  def peek(self):\n",
        "     if not self.is_empty():\n",
        "       return self.items[-1]\n",
        "       return None\n",
        "  def is_empty(self):\n",
        "       return len(self.items) == 0\n",
        "  def size(self):\n",
        "       return len(self.items)\n",
        "# Pengujian\n",
        "stack = Stack()\n",
        "stack.push(\"A\")\n",
        "stack.push(\"B\")\n",
        "stack.push(\"C\")\n",
        "stack.push(\"D\")\n",
        "print(\"Pop:\", stack.pop()) # Output: D\n",
        "print(\"Pop:\", stack.pop()) # Output: C\n",
        "print(\"Peek:\", stack.peek()) # Output: B\n",
        "print(\"Size:\", stack.size()) # Output: 2\n",
        "print(\"Is empty?\", stack.is_empty()) # Output: False"
      ],
      "metadata": {
        "colab": {
          "base_uri": "https://localhost:8080/"
        },
        "id": "G-U44NKwfpIS",
        "outputId": "e89e5987-fd2b-40ff-e053-21cabea68b42"
      },
      "execution_count": null,
      "outputs": [
        {
          "output_type": "stream",
          "name": "stdout",
          "text": [
            "Pop: D\n",
            "Pop: C\n",
            "Peek: B\n",
            "Size: 2\n",
            "Is empty? False\n"
          ]
        }
      ]
    },
    {
      "cell_type": "code",
      "source": [
        "def is_prime(n):\n",
        "  if n < 2:\n",
        "    return False\n",
        "  for i in range(2, int(n ** 0.5) + 1):\n",
        "      if n % i == 0:\n",
        "        return False\n",
        "  return True\n",
        "print(is_prime(17)) # Output: True"
      ],
      "metadata": {
        "colab": {
          "base_uri": "https://localhost:8080/"
        },
        "id": "kqtrl9suY1TM",
        "outputId": "114522ab-2674-4dda-ce33-821ce5038952"
      },
      "execution_count": 6,
      "outputs": [
        {
          "output_type": "stream",
          "name": "stdout",
          "text": [
            "True\n"
          ]
        }
      ]
    },
    {
      "cell_type": "code",
      "source": [
        "def cari_bilangan_prima(batas):\n",
        "    bilangan_prima = []\n",
        "    for angka in range(2, batas + 1):\n",
        "        prima = True\n",
        "        for i in range(2, int(angka ** 0.5) + 1):\n",
        "            if angka % i == 0:\n",
        "                prima = False\n",
        "                break\n",
        "        if prima:\n",
        "            bilangan_prima.append(angka)\n",
        "    return bilangan_prima\n",
        "\n",
        "# Contoh penggunaan\n",
        "batas_atas = int(input(\"Masukkan batas atas: \"))\n",
        "hasil = cari_bilangan_prima(batas_atas)\n",
        "print(f\"Bilangan prima sampai {batas_atas}: {hasil}\")\n"
      ],
      "metadata": {
        "id": "wUOwb2xKkXfT",
        "colab": {
          "base_uri": "https://localhost:8080/"
        },
        "outputId": "7bc761e2-ab86-4390-9825-29ac346b51e9"
      },
      "execution_count": 7,
      "outputs": [
        {
          "output_type": "stream",
          "name": "stdout",
          "text": [
            "Masukkan batas atas: 100\n",
            "Bilangan prima sampai 100: [2, 3, 5, 7, 11, 13, 17, 19, 23, 29, 31, 37, 41, 43, 47, 53, 59, 61, 67, 71, 73, 79, 83, 89, 97]\n"
          ]
        }
      ]
    },
    {
      "cell_type": "code",
      "source": [
        "batas = int(input(\"Masukkan batas atas: \"))\n",
        "\n",
        "for angka in range(2, batas + 1):\n",
        "    for i in range(2, angka):\n",
        "        if angka % i == 0:\n",
        "            break\n",
        "    else:\n",
        "        print(angka, end=' ')\n"
      ],
      "metadata": {
        "colab": {
          "base_uri": "https://localhost:8080/"
        },
        "id": "mrTQOYODdtax",
        "outputId": "1965523a-5b27-445f-84c3-12de37522f21"
      },
      "execution_count": 13,
      "outputs": [
        {
          "output_type": "stream",
          "name": "stdout",
          "text": [
            "Masukkan batas atas: 5\n",
            "2 3 5 "
          ]
        }
      ]
    }
  ]
}