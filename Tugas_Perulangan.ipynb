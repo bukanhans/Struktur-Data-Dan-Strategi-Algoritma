{
  "nbformat": 4,
  "nbformat_minor": 0,
  "metadata": {
    "colab": {
      "provenance": [],
      "authorship_tag": "ABX9TyP/DRpYoEPJp6sExNygb7Ck",
      "include_colab_link": true
    },
    "kernelspec": {
      "name": "python3",
      "display_name": "Python 3"
    },
    "language_info": {
      "name": "python"
    }
  },
  "cells": [
    {
      "cell_type": "markdown",
      "metadata": {
        "id": "view-in-github",
        "colab_type": "text"
      },
      "source": [
        "<a href=\"https://colab.research.google.com/github/bukanhans/Tugas1/blob/main/Tugas_Perulangan.ipynb\" target=\"_parent\"><img src=\"https://colab.research.google.com/assets/colab-badge.svg\" alt=\"Open In Colab\"/></a>"
      ]
    },
    {
      "cell_type": "code",
      "execution_count": 2,
      "metadata": {
        "colab": {
          "base_uri": "https://localhost:8080/"
        },
        "id": "VaPS6WfhgoPw",
        "outputId": "2bdecb23-0c1a-4573-d4ee-7e623e6d5a4e"
      },
      "outputs": [
        {
          "output_type": "stream",
          "name": "stdout",
          "text": [
            "Masukkan Nilai Batas Bilangan Prima: 5\n",
            "2 3 5 "
          ]
        }
      ],
      "source": [
        "batas = int(input(\"Masukkan Nilai Batas Bilangan Prima: \"))\n",
        "\n",
        "for prima in range(2, batas + 1):\n",
        "    for i in range(2, prima):\n",
        "        if prima % i == 0:\n",
        "            break\n",
        "    else:\n",
        "        print(prima, end=' ')"
      ]
    }
  ]
}